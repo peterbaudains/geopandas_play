{
 "cells": [
  {
   "cell_type": "code",
   "execution_count": null,
   "id": "b341285d-bbfd-4b2e-ab21-a403718d9980",
   "metadata": {},
   "outputs": [],
   "source": [
    "import geopandas as gpd\n",
    "import matplotlib.pyplot as plt"
   ]
  },
  {
   "cell_type": "code",
   "execution_count": null,
   "id": "75716caa-38ac-49f8-ab61-698b5b3937bc",
   "metadata": {},
   "outputs": [],
   "source": [
    "# National_Parks__December_2019__GB_BFC\n",
    "np = gpd.read_file('https://opendata.arcgis.com/datasets/4fd7e7d2a96b4254973c976bc5e56aee_0.geojson')"
   ]
  },
  {
   "cell_type": "code",
   "execution_count": null,
   "id": "dd669f83-de66-4dcd-a3bb-87d551e29382",
   "metadata": {},
   "outputs": [],
   "source": [
    "# Calculate centroids with a reprojection in between \n",
    "np['centroids'] = np['geometry'].to_crs('EPSG:27700').centroid.to_crs('EPSG:4326')"
   ]
  },
  {
   "cell_type": "code",
   "execution_count": null,
   "id": "c8cf5af4-4a9f-4bc2-b726-deb2bec71655",
   "metadata": {},
   "outputs": [],
   "source": [
    "base=np.explore(color='green')\n",
    "np['centroids'].explore(m=base, color='yellow')"
   ]
  }
 ],
 "metadata": {
  "kernelspec": {
   "display_name": "Python 3 (ipykernel)",
   "language": "python",
   "name": "python3"
  },
  "language_info": {
   "codemirror_mode": {
    "name": "ipython",
    "version": 3
   },
   "file_extension": ".py",
   "mimetype": "text/x-python",
   "name": "python",
   "nbconvert_exporter": "python",
   "pygments_lexer": "ipython3",
   "version": "3.10.2"
  }
 },
 "nbformat": 4,
 "nbformat_minor": 5
}
