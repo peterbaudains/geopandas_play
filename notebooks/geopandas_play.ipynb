{
 "cells": [
  {
   "cell_type": "code",
   "execution_count": null,
   "id": "b341285d-bbfd-4b2e-ab21-a403718d9980",
   "metadata": {},
   "outputs": [],
   "source": [
    "import geopandas as gpd\n",
    "import matplotlib.pyplot as plt"
   ]
  },
  {
   "cell_type": "code",
   "execution_count": null,
   "id": "52e586e6-917e-4d13-ac79-f72f317061e0",
   "metadata": {},
   "outputs": [],
   "source": [
    "gdf = gpd.read_file('European_Electoral_Regions_(December_2018)_Boundaries_UK_BFC.geojson')"
   ]
  },
  {
   "cell_type": "code",
   "execution_count": null,
   "id": "b8d0ad3d-cc1b-4ce2-a990-72a028f712b1",
   "metadata": {},
   "outputs": [],
   "source": [
    "gdf.set_crs('epsg:4326', inplace=True)"
   ]
  },
  {
   "cell_type": "code",
   "execution_count": null,
   "id": "cd3ce7f8-15c3-4d8b-b2d4-d2ee35a7fde7",
   "metadata": {},
   "outputs": [],
   "source": [
    "gdf.crs"
   ]
  },
  {
   "cell_type": "code",
   "execution_count": null,
   "id": "75716caa-38ac-49f8-ab61-698b5b3937bc",
   "metadata": {},
   "outputs": [],
   "source": [
    "np = gpd.read_file('National_Parks__December_2019__GB_BFC.geojson')"
   ]
  },
  {
   "cell_type": "code",
   "execution_count": null,
   "id": "dd669f83-de66-4dcd-a3bb-87d551e29382",
   "metadata": {},
   "outputs": [],
   "source": [
    "np.set_crs('epsg:4326', inplace=True)"
   ]
  },
  {
   "cell_type": "code",
   "execution_count": null,
   "id": "b37d0737-688f-40ce-885d-bd6bd628e4fb",
   "metadata": {},
   "outputs": [],
   "source": [
    "np['centroids'] = np['geometry'].centroid"
   ]
  },
  {
   "cell_type": "code",
   "execution_count": null,
   "id": "c8cf5af4-4a9f-4bc2-b726-deb2bec71655",
   "metadata": {},
   "outputs": [],
   "source": [
    "base = gdf.explore()\n",
    "np.explore(m=base)\n",
    "np['centroids'].explore(m=base)"
   ]
  },
  {
   "cell_type": "code",
   "execution_count": null,
   "id": "31ade762-adb5-4db0-b8f3-a0e35d49d7ba",
   "metadata": {},
   "outputs": [],
   "source": []
  }
 ],
 "metadata": {
  "kernelspec": {
   "display_name": "Python 3 (ipykernel)",
   "language": "python",
   "name": "python3"
  },
  "language_info": {
   "codemirror_mode": {
    "name": "ipython",
    "version": 3
   },
   "file_extension": ".py",
   "mimetype": "text/x-python",
   "name": "python",
   "nbconvert_exporter": "python",
   "pygments_lexer": "ipython3",
   "version": "3.10.2"
  }
 },
 "nbformat": 4,
 "nbformat_minor": 5
}
